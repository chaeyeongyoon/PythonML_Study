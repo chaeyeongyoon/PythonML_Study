{
 "cells": [
  {
   "cell_type": "code",
   "execution_count": 1,
   "metadata": {
    "collapsed": true
   },
   "outputs": [],
   "source": [
    "import numpy as np"
   ]
  },
  {
   "cell_type": "code",
   "execution_count": 2,
   "metadata": {
    "collapsed": true
   },
   "outputs": [],
   "source": [
    "array1 = np.array([1, 2, 3])"
   ]
  },
  {
   "cell_type": "code",
   "execution_count": 3,
   "metadata": {
    "collapsed": false
   },
   "outputs": [
    {
     "name": "stdout",
     "output_type": "stream",
     "text": [
      "array1 array 형태: <class 'numpy.ndarray'>\n"
     ]
    }
   ],
   "source": [
    "print(\"array1 array 형태:\", type(array1))"
   ]
  },
  {
   "cell_type": "code",
   "execution_count": 5,
   "metadata": {
    "collapsed": false
   },
   "outputs": [
    {
     "name": "stdout",
     "output_type": "stream",
     "text": [
      "array1 array 형태: (3,)\n"
     ]
    }
   ],
   "source": [
    "print(\"array1 array 형태:\", array1.shape)"
   ]
  },
  {
   "cell_type": "code",
   "execution_count": 7,
   "metadata": {
    "collapsed": false
   },
   "outputs": [
    {
     "name": "stdout",
     "output_type": "stream",
     "text": [
      "[[1 2 3]\n",
      " [2 3 4]]\n"
     ]
    }
   ],
   "source": [
    "array2 = np.array([[1, 2, 3],\n",
    "                   [2, 3, 4]])\n",
    "print(array2)"
   ]
  },
  {
   "cell_type": "code",
   "execution_count": 8,
   "metadata": {
    "collapsed": false
   },
   "outputs": [
    {
     "name": "stdout",
     "output_type": "stream",
     "text": [
      "array2 type: <class 'numpy.ndarray'>\n"
     ]
    }
   ],
   "source": [
    "print(\"array2 type:\", type(array2))"
   ]
  },
  {
   "cell_type": "code",
   "execution_count": 9,
   "metadata": {
    "collapsed": false
   },
   "outputs": [
    {
     "name": "stdout",
     "output_type": "stream",
     "text": [
      "array2 shape: (2, 3)\n"
     ]
    }
   ],
   "source": [
    "print(\"array2 shape:\", array2.shape)"
   ]
  },
  {
   "cell_type": "code",
   "execution_count": 11,
   "metadata": {
    "collapsed": false
   },
   "outputs": [
    {
     "name": "stdout",
     "output_type": "stream",
     "text": [
      "array 3 type: <class 'numpy.ndarray'>\n",
      "array 3 shape: (1, 3)\n"
     ]
    }
   ],
   "source": [
    "array3 = np.array([[1, 2, 3]])\n",
    "print(\"array 3 type:\", type(array3))\n",
    "print(\"array 3 shape:\", array3.shape)"
   ]
  },
  {
   "cell_type": "code",
   "execution_count": 14,
   "metadata": {
    "collapsed": false
   },
   "outputs": [
    {
     "name": "stdout",
     "output_type": "stream",
     "text": [
      "array1: 1차원, array2: 2차원, array3:  2차원\n"
     ]
    }
   ],
   "source": [
    "print(\"array1: {:0}차원, array2: {:1}차원, array3: {:2}차원\".format(array1.ndim, array2.ndim, array3.ndim))"
   ]
  },
  {
   "cell_type": "code",
   "execution_count": 15,
   "metadata": {
    "collapsed": true
   },
   "outputs": [],
   "source": [
    "list1 = [1, 2, 3]"
   ]
  },
  {
   "cell_type": "code",
   "execution_count": 17,
   "metadata": {
    "collapsed": false
   },
   "outputs": [
    {
     "name": "stdout",
     "output_type": "stream",
     "text": [
      "<class 'list'>\n"
     ]
    }
   ],
   "source": [
    "print(type(list1))"
   ]
  },
  {
   "cell_type": "code",
   "execution_count": 18,
   "metadata": {
    "collapsed": false
   },
   "outputs": [
    {
     "name": "stdout",
     "output_type": "stream",
     "text": [
      "<class 'numpy.ndarray'>\n"
     ]
    }
   ],
   "source": [
    "array1 = np.array(list1)\n",
    "print(type(array1))"
   ]
  },
  {
   "cell_type": "code",
   "execution_count": 19,
   "metadata": {
    "collapsed": false
   },
   "outputs": [
    {
     "name": "stdout",
     "output_type": "stream",
     "text": [
      "[1 2 3] int32\n"
     ]
    }
   ],
   "source": [
    "print(array1, array1.dtype)"
   ]
  },
  {
   "cell_type": "markdown",
   "metadata": {},
   "source": [
    "같은 데이터 타입만 가능한 array에 다른 data type 같이 입력하였을 때"
   ]
  },
  {
   "cell_type": "code",
   "execution_count": 20,
   "metadata": {
    "collapsed": false
   },
   "outputs": [
    {
     "name": "stdout",
     "output_type": "stream",
     "text": [
      "['1' '2' 'test'] <U11\n"
     ]
    }
   ],
   "source": [
    "list2 = [1, 2, 'test']\n",
    "array2 = np.array(list2)\n",
    "print(array2, array2.dtype)"
   ]
  },
  {
   "cell_type": "code",
   "execution_count": 21,
   "metadata": {
    "collapsed": false
   },
   "outputs": [
    {
     "name": "stdout",
     "output_type": "stream",
     "text": [
      "[ 1.  2.  3.] float64\n"
     ]
    }
   ],
   "source": [
    "list3 = [1, 2, 3.0]\n",
    "array3 = np.array(list3)\n",
    "print(array3, array3.dtype)"
   ]
  },
  {
   "cell_type": "markdown",
   "metadata": {},
   "source": [
    "결과: 더 큰 데이터 타입으로 형변환 일괄적용 첫번째 경우 문자열로, 두번째 경우 실수형으로 "
   ]
  },
  {
   "cell_type": "markdown",
   "metadata": {},
   "source": [
    "astype()메소드로 타입변경하기 -> 주로 메모리 절약해야할때 ex) float를 int로"
   ]
  },
  {
   "cell_type": "code",
   "execution_count": 22,
   "metadata": {
    "collapsed": true
   },
   "outputs": [],
   "source": [
    "array_int = np.array([1, 2, 3])\n",
    "array_float = array_int.astype('float')"
   ]
  },
  {
   "cell_type": "code",
   "execution_count": 24,
   "metadata": {
    "collapsed": false
   },
   "outputs": [
    {
     "name": "stdout",
     "output_type": "stream",
     "text": [
      "[ 1.  2.  3.] float64\n"
     ]
    }
   ],
   "source": [
    "print(array_float, array_float.dtype)"
   ]
  },
  {
   "cell_type": "code",
   "execution_count": 26,
   "metadata": {
    "collapsed": false
   },
   "outputs": [
    {
     "name": "stdout",
     "output_type": "stream",
     "text": [
      "[1 2 3] int32\n"
     ]
    }
   ],
   "source": [
    "array_int1 = array_float.astype('int32')\n",
    "print(array_int1, array_int1.dtype)"
   ]
  },
  {
   "cell_type": "code",
   "execution_count": 27,
   "metadata": {
    "collapsed": false
   },
   "outputs": [
    {
     "name": "stdout",
     "output_type": "stream",
     "text": [
      "[1 2 3] int32\n"
     ]
    }
   ],
   "source": [
    "array_float1 = np.array([1.1, 2.1, 3.1])\n",
    "array_int2 = array_float1.astype('int32')\n",
    "print(array_int2, array_int2.dtype)"
   ]
  },
  {
   "cell_type": "markdown",
   "metadata": {},
   "source": [
    "nd.array 편리하게 생성 - 편리하게 초기화 생성"
   ]
  },
  {
   "cell_type": "code",
   "execution_count": 28,
   "metadata": {
    "collapsed": false
   },
   "outputs": [
    {
     "name": "stdout",
     "output_type": "stream",
     "text": [
      "[0 1 2 3 4 5 6 7 8 9]\n",
      "int32 (10,)\n"
     ]
    }
   ],
   "source": [
    "sequence_array = np.arange(10)\n",
    "print(sequence_array)\n",
    "print(sequence_array.dtype,sequence_array.shape)"
   ]
  },
  {
   "cell_type": "code",
   "execution_count": 29,
   "metadata": {
    "collapsed": false
   },
   "outputs": [
    {
     "name": "stdout",
     "output_type": "stream",
     "text": [
      "[2 4 6 8]\n",
      "int32 (4,)\n"
     ]
    }
   ],
   "source": [
    "sequence_array2 = np.arange(2, 10, 2)\n",
    "print(sequence_array2)\n",
    "print(sequence_array2.dtype,sequence_array2.shape)"
   ]
  },
  {
   "cell_type": "code",
   "execution_count": 30,
   "metadata": {
    "collapsed": false
   },
   "outputs": [
    {
     "name": "stdout",
     "output_type": "stream",
     "text": [
      "[[0 0]\n",
      " [0 0]\n",
      " [0 0]]\n",
      "int32 (3, 2)\n"
     ]
    }
   ],
   "source": [
    "zero_array = np.zeros((3, 2), dtype = 'int32') ##default는 float64\n",
    "print(zero_array)\n",
    "print(zero_array.dtype, zero_array.shape)"
   ]
  },
  {
   "cell_type": "code",
   "execution_count": 32,
   "metadata": {
    "collapsed": false
   },
   "outputs": [
    {
     "name": "stdout",
     "output_type": "stream",
     "text": [
      "[[ 1.  1.]\n",
      " [ 1.  1.]\n",
      " [ 1.  1.]]\n",
      "float64 (3, 2)\n"
     ]
    }
   ],
   "source": [
    "one_array = np.ones((3, 2))\n",
    "print(one_array)\n",
    "print(one_array.dtype, one_array.shape)"
   ]
  },
  {
   "cell_type": "markdown",
   "metadata": {
    "collapsed": true
   },
   "source": [
    "reshape() method"
   ]
  },
  {
   "cell_type": "code",
   "execution_count": 3,
   "metadata": {
    "collapsed": false,
    "scrolled": true
   },
   "outputs": [
    {
     "name": "stdout",
     "output_type": "stream",
     "text": [
      "array1:\n",
      " [0 1 2 3 4 5 6 7 8 9]\n"
     ]
    }
   ],
   "source": [
    "array1 = np.arange(10)\n",
    "print(\"array1:\\n\", array1)"
   ]
  },
  {
   "cell_type": "code",
   "execution_count": 4,
   "metadata": {
    "collapsed": false
   },
   "outputs": [
    {
     "name": "stdout",
     "output_type": "stream",
     "text": [
      "array2:\n",
      " [[0 1 2 3 4]\n",
      " [5 6 7 8 9]]\n"
     ]
    }
   ],
   "source": [
    "array2 = array1.reshape(2, 5)\n",
    "print(\"array2:\\n\", array2)"
   ]
  },
  {
   "cell_type": "code",
   "execution_count": 5,
   "metadata": {
    "collapsed": false
   },
   "outputs": [
    {
     "name": "stdout",
     "output_type": "stream",
     "text": [
      "array3:\n",
      " [[0 1]\n",
      " [2 3]\n",
      " [4 5]\n",
      " [6 7]\n",
      " [8 9]]\n"
     ]
    }
   ],
   "source": [
    "array3 = array1.reshape(5,2)\n",
    "print(\"array3:\\n\", array3)"
   ]
  },
  {
   "cell_type": "markdown",
   "metadata": {},
   "source": [
    "reshape -1 인자 -> (-1, 1)로 많이 사용:: 한개의 칼럼"
   ]
  },
  {
   "cell_type": "code",
   "execution_count": 6,
   "metadata": {
    "collapsed": false
   },
   "outputs": [
    {
     "name": "stdout",
     "output_type": "stream",
     "text": [
      "[0 1 2 3 4 5 6 7 8 9]\n"
     ]
    }
   ],
   "source": [
    "array1 = np.arange(10) \n",
    "print(array1)"
   ]
  },
  {
   "cell_type": "code",
   "execution_count": 7,
   "metadata": {
    "collapsed": false
   },
   "outputs": [
    {
     "name": "stdout",
     "output_type": "stream",
     "text": [
      "array2 shape: (2, 5)\n"
     ]
    }
   ],
   "source": [
    "array2 = array1.reshape(-1, 5)\n",
    "print(\"array2 shape:\", array2.shape)"
   ]
  },
  {
   "cell_type": "code",
   "execution_count": 8,
   "metadata": {
    "collapsed": false
   },
   "outputs": [
    {
     "name": "stdout",
     "output_type": "stream",
     "text": [
      "array3 shape: (5, 2)\n"
     ]
    }
   ],
   "source": [
    "array3 = array1.reshape(5, -1)\n",
    "print(\"array3 shape:\", array3.shape)"
   ]
  },
  {
   "cell_type": "markdown",
   "metadata": {},
   "source": [
    "reshape로 형태 통일해 stack이나 concat으로 결합 많이 사용\n",
    "tolist()로 list형태 변환 가능 -> 출력시 시각적 이해 더 쉬움"
   ]
  },
  {
   "cell_type": "code",
   "execution_count": 9,
   "metadata": {
    "collapsed": false
   },
   "outputs": [
    {
     "name": "stdout",
     "output_type": "stream",
     "text": [
      "array3d:\n",
      " [[[0, 1], [2, 3]], [[4, 5], [6, 7]]]\n"
     ]
    }
   ],
   "source": [
    "array1 = np.arange(8)\n",
    "array3d = array1.reshape((2, 2, 2))\n",
    "print(\"array3d:\\n\", array3d.tolist())"
   ]
  },
  {
   "cell_type": "code",
   "execution_count": 10,
   "metadata": {
    "collapsed": false
   },
   "outputs": [
    {
     "name": "stdout",
     "output_type": "stream",
     "text": [
      "array5:\n",
      " [[0], [1], [2], [3], [4], [5], [6], [7]]\n"
     ]
    }
   ],
   "source": [
    "array5 = array3d.reshape(-1,1)\n",
    "print(\"array5:\\n\", array5.tolist())"
   ]
  },
  {
   "cell_type": "code",
   "execution_count": 11,
   "metadata": {
    "collapsed": false
   },
   "outputs": [
    {
     "name": "stdout",
     "output_type": "stream",
     "text": [
      "array6:\n",
      " [[0], [1], [2], [3], [4], [5], [6], [7]]\n",
      "array6 shape: (8, 1)\n"
     ]
    }
   ],
   "source": [
    "array6 = array1.reshape(-1,1)\n",
    "print('array6:\\n', array6.tolist())\n",
    "print('array6 shape:', array6.shape)"
   ]
  },
  {
   "cell_type": "markdown",
   "metadata": {},
   "source": [
    "인덱싱 - 특정 데이터 선택 :: 해당인덱스값지정/슬라이싱/fancy indexing(리스트/ndarray형태로지정)/boolean indexint(조건/true선택)"
   ]
  },
  {
   "cell_type": "code",
   "execution_count": 12,
   "metadata": {
    "collapsed": false
   },
   "outputs": [
    {
     "name": "stdout",
     "output_type": "stream",
     "text": [
      "array1: [1 2 3 4 5 6 7 8 9]\n",
      "value: 3\n",
      "<class 'numpy.int32'>\n"
     ]
    }
   ],
   "source": [
    "array1 = np.arange(start = 1, stop = 10)\n",
    "print('array1:', array1)\n",
    "value = array1[2]\n",
    "print('value:', value)\n",
    "print(type(value))"
   ]
  },
  {
   "cell_type": "code",
   "execution_count": 13,
   "metadata": {
    "collapsed": false
   },
   "outputs": [
    {
     "name": "stdout",
     "output_type": "stream",
     "text": [
      "맨 뒤의 값: 9 맨 뒤에서 두번째 값: 8\n"
     ]
    }
   ],
   "source": [
    "print(\"맨 뒤의 값:\", array1[-1], \"맨 뒤에서 두번째 값:\", array1[-2])"
   ]
  },
  {
   "cell_type": "code",
   "execution_count": 14,
   "metadata": {
    "collapsed": false
   },
   "outputs": [
    {
     "name": "stdout",
     "output_type": "stream",
     "text": [
      "[9 2 3 4 5 6 7 8 0]\n"
     ]
    }
   ],
   "source": [
    "array1[0] = 9\n",
    "array1[8] = 0\n",
    "print(array1)"
   ]
  },
  {
   "cell_type": "code",
   "execution_count": 15,
   "metadata": {
    "collapsed": false
   },
   "outputs": [
    {
     "name": "stdout",
     "output_type": "stream",
     "text": [
      "[[1 2 3]\n",
      " [4 5 6]\n",
      " [7 8 9]]\n"
     ]
    }
   ],
   "source": [
    "array1d = np.arange(start = 1, stop = 10)\n",
    "array2d = array1d.reshape(3, 3)\n",
    "print(array2d)"
   ]
  },
  {
   "cell_type": "code",
   "execution_count": 16,
   "metadata": {
    "collapsed": false
   },
   "outputs": [
    {
     "name": "stdout",
     "output_type": "stream",
     "text": [
      "(row=0, col=0) index 가리키는 값: 1\n",
      "(row=0, col=1) index 가리키는 값: 2\n",
      "(row=1, col=0) index 가리키는 값: 4\n",
      "(row=2, col=2) index 가리키는 값: 9\n"
     ]
    }
   ],
   "source": [
    "print('(row=0, col=0) index 가리키는 값:', array2d[0, 0])\n",
    "print('(row=0, col=1) index 가리키는 값:', array2d[0, 1])\n",
    "print('(row=1, col=0) index 가리키는 값:', array2d[1, 0])\n",
    "print('(row=2, col=2) index 가리키는 값:', array2d[2, 2])"
   ]
  },
  {
   "cell_type": "markdown",
   "metadata": {},
   "source": [
    "사실은 row, col 아닌 axis = 0 : row, axis = 1 : col wmr [axis 0 = 0, axis 1 = 1] 이 정화ㄱ표현 생략시 axis0"
   ]
  },
  {
   "cell_type": "code",
   "execution_count": 17,
   "metadata": {
    "collapsed": false
   },
   "outputs": [
    {
     "name": "stdout",
     "output_type": "stream",
     "text": [
      "[1 2 3]\n",
      "<class 'numpy.ndarray'>\n"
     ]
    }
   ],
   "source": [
    "array1 = np.arange(start = 1, stop = 10)\n",
    "array3 = array1[0:3]\n",
    "print(array3)\n",
    "print(type(array3))"
   ]
  },
  {
   "cell_type": "code",
   "execution_count": 19,
   "metadata": {
    "collapsed": false
   },
   "outputs": [
    {
     "name": "stdout",
     "output_type": "stream",
     "text": [
      "[1 2 3]\n"
     ]
    }
   ],
   "source": [
    "array4 = array1[:3]\n",
    "print(array4)"
   ]
  },
  {
   "cell_type": "code",
   "execution_count": 20,
   "metadata": {
    "collapsed": false
   },
   "outputs": [
    {
     "name": "stdout",
     "output_type": "stream",
     "text": [
      "[4 5 6 7 8 9]\n",
      "[1 2 3 4 5 6 7 8 9]\n"
     ]
    }
   ],
   "source": [
    "array5 = array1[3:]\n",
    "print(array5)\n",
    "array6 = array1[:]\n",
    "print(array6)"
   ]
  },
  {
   "cell_type": "code",
   "execution_count": 21,
   "metadata": {
    "collapsed": false
   },
   "outputs": [
    {
     "name": "stdout",
     "output_type": "stream",
     "text": [
      "[3 6]\n"
     ]
    }
   ],
   "source": [
    "array1d = np.arange(start=1, stop=10)\n",
    "array2d = array1d.reshape(3,3)\n",
    "array3 = array2d[[0,1],2]\n",
    "print(array3)"
   ]
  },
  {
   "cell_type": "code",
   "execution_count": 23,
   "metadata": {
    "collapsed": false
   },
   "outputs": [
    {
     "name": "stdout",
     "output_type": "stream",
     "text": [
      "[[1 2]\n",
      " [4 5]]\n"
     ]
    }
   ],
   "source": [
    "array4 = array2d[[0, 1],0:2]\n",
    "print(array4)"
   ]
  },
  {
   "cell_type": "code",
   "execution_count": 24,
   "metadata": {
    "collapsed": false
   },
   "outputs": [
    {
     "name": "stdout",
     "output_type": "stream",
     "text": [
      "[[1 2 3]\n",
      " [4 5 6]]\n"
     ]
    }
   ],
   "source": [
    "array5 = array2d[[0,1]]\n",
    "print(array5)"
   ]
  },
  {
   "cell_type": "code",
   "execution_count": 25,
   "metadata": {
    "collapsed": false
   },
   "outputs": [
    {
     "name": "stdout",
     "output_type": "stream",
     "text": [
      "array1d>5불린인덱싱결과값: [6 7 8 9]\n"
     ]
    }
   ],
   "source": [
    "array1 = np.arange(start=1, stop=10)\n",
    "array3 = array1d[array1d > 5]\n",
    "print('array1d>5불린인덱싱결과값:', array3)"
   ]
  },
  {
   "cell_type": "code",
   "execution_count": 26,
   "metadata": {
    "collapsed": false
   },
   "outputs": [
    {
     "data": {
      "text/plain": [
       "array([False, False, False, False, False,  True,  True,  True,  True], dtype=bool)"
      ]
     },
     "execution_count": 26,
     "metadata": {},
     "output_type": "execute_result"
    }
   ],
   "source": [
    "array1d>5"
   ]
  },
  {
   "cell_type": "code",
   "execution_count": 27,
   "metadata": {
    "collapsed": false
   },
   "outputs": [
    {
     "name": "stdout",
     "output_type": "stream",
     "text": [
      "불린 인덱스로 필터링 결과 : [6 7 8 9]\n"
     ]
    }
   ],
   "source": [
    "boolean_indexes = np.array([False, False, False, False, False,  True,  True,  True,  True])\n",
    "array3 = array1d[boolean_indexes]\n",
    "print('불린 인덱스로 필터링 결과 :',array3)"
   ]
  },
  {
   "cell_type": "markdown",
   "metadata": {},
   "source": [
    "정렬-sort, argsort"
   ]
  },
  {
   "cell_type": "code",
   "execution_count": 32,
   "metadata": {
    "collapsed": false
   },
   "outputs": [
    {
     "name": "stdout",
     "output_type": "stream",
     "text": [
      "[3 1 9 5]\n",
      "[1 3 5 9]\n",
      "None\n",
      "[1 3 5 9]\n",
      "[3 1 9 5]\n",
      "[9 5 3 1]\n"
     ]
    }
   ],
   "source": [
    "org_array = np.array([3, 1, 9, 5])\n",
    "print(org_array)\n",
    "#오름차순\n",
    "sort_array1 = np.sort(org_array)\n",
    "sort_array2 = org_array.sort() ## 원본을 정렬해버림\n",
    "print(sort_array1)\n",
    "print(sort_array2)\n",
    "print(org_array)\n",
    "#내림차순\n",
    "org_array = np.array([3, 1, 9, 5])\n",
    "print(org_array)\n",
    "sort_array1_desc = np.sort(org_array)[::-1]\n",
    "print(sort_array1_desc)"
   ]
  },
  {
   "cell_type": "code",
   "execution_count": 33,
   "metadata": {
    "collapsed": false
   },
   "outputs": [
    {
     "name": "stdout",
     "output_type": "stream",
     "text": [
      "로우방향정렬 [[ 7  1]\n",
      " [ 8 12]]\n"
     ]
    }
   ],
   "source": [
    "#2차원\n",
    "array2d = np.array([[8, 12],\n",
    "                   [7, 1]])\n",
    "sort_array2d_axis0 = np.sort(array2d, axis=0)\n",
    "print('로우방향정렬',sort_array2d_axis0)"
   ]
  },
  {
   "cell_type": "code",
   "execution_count": 34,
   "metadata": {
    "collapsed": false
   },
   "outputs": [
    {
     "name": "stdout",
     "output_type": "stream",
     "text": [
      "칼럼방향정렬 [[ 8 12]\n",
      " [ 1  7]]\n"
     ]
    }
   ],
   "source": [
    "sort_array2d_axis1 = np.sort(array2d, axis=1)\n",
    "print('칼럼방향정렬',sort_array2d_axis1)"
   ]
  },
  {
   "cell_type": "code",
   "execution_count": 35,
   "metadata": {
    "collapsed": false
   },
   "outputs": [
    {
     "name": "stdout",
     "output_type": "stream",
     "text": [
      "<class 'numpy.ndarray'>\n",
      "행렬 정렬 시 원본 행렬의 인덱스: [1 0 3 2]\n"
     ]
    }
   ],
   "source": [
    "#원본행렬 정렬 시 기존 원본 행렬 원소 대한 인덱스 필요시 argsort이용\n",
    "#np.argsort() : 원본행렬 인덱스를 nparray로 반환\n",
    "org_array = np.array([3, 1, 9, 5])\n",
    "sort_indices = np.argsort(org_array)\n",
    "print(type(sort_indices))\n",
    "print('행렬 정렬 시 원본 행렬의 인덱스:', sort_indices)"
   ]
  },
  {
   "cell_type": "markdown",
   "metadata": {},
   "source": [
    "# 선형대수 연산"
   ]
  },
  {
   "cell_type": "code",
   "execution_count": 36,
   "metadata": {
    "collapsed": false
   },
   "outputs": [
    {
     "name": "stdout",
     "output_type": "stream",
     "text": [
      "행렬 내적 결과:\n",
      " [[ 58  64]\n",
      " [139 154]]\n"
     ]
    }
   ],
   "source": [
    "#행렬내적 = 행렬곱\n",
    "#np.dot(A, B)\n",
    "A = np.array([[1, 2, 3],\n",
    "              [4, 5, 6]])\n",
    "B = np.array([[7, 8],\n",
    "              [9, 10],\n",
    "              [11, 12]])\n",
    "dot_product = np.dot(A, B)\n",
    "print('행렬 내적 결과:\\n', dot_product)"
   ]
  },
  {
   "cell_type": "code",
   "execution_count": 38,
   "metadata": {
    "collapsed": false
   },
   "outputs": [
    {
     "name": "stdout",
     "output_type": "stream",
     "text": [
      "A의 전치 행렬:\n",
      " [[1 3]\n",
      " [2 4]]\n"
     ]
    }
   ],
   "source": [
    "#전치행렬\n",
    "A = np.array([[1, 2],\n",
    "             [3, 4]])\n",
    "transpose_mat = np.transpose(A)\n",
    "print('A의 전치 행렬:\\n', transpose_mat)"
   ]
  },
  {
   "cell_type": "code",
   "execution_count": 2,
   "metadata": {
    "collapsed": false
   },
   "outputs": [
    {
     "data": {
      "text/plain": [
       "array([-7,  2])"
      ]
     },
     "execution_count": 2,
     "metadata": {},
     "output_type": "execute_result"
    }
   ],
   "source": [
    "a = [[1, 2], [2, 1]]\n",
    "b = [[4, 1], [2, 2]]\n",
    "np.cross(a, b)"
   ]
  },
  {
   "cell_type": "code",
   "execution_count": null,
   "metadata": {
    "collapsed": true
   },
   "outputs": [],
   "source": []
  }
 ],
 "metadata": {
  "anaconda-cloud": {},
  "kernelspec": {
   "display_name": "Python [conda root]",
   "language": "python",
   "name": "conda-root-py"
  },
  "language_info": {
   "codemirror_mode": {
    "name": "ipython",
    "version": 3
   },
   "file_extension": ".py",
   "mimetype": "text/x-python",
   "name": "python",
   "nbconvert_exporter": "python",
   "pygments_lexer": "ipython3",
   "version": "3.5.2"
  }
 },
 "nbformat": 4,
 "nbformat_minor": 1
}
