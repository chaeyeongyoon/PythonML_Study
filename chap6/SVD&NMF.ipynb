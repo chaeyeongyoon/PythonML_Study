{
 "cells": [
  {
   "cell_type": "markdown",
   "metadata": {},
   "source": [
    "### SVD"
   ]
  },
  {
   "cell_type": "code",
   "execution_count": 1,
   "metadata": {},
   "outputs": [
    {
     "name": "stdout",
     "output_type": "stream",
     "text": [
      "[[-0.212 -0.285 -0.574 -0.44 ]\n",
      " [-0.33   1.184  1.615  0.367]\n",
      " [-0.014  0.63   1.71  -1.327]\n",
      " [ 0.402 -0.191  1.404 -1.969]]\n"
     ]
    }
   ],
   "source": [
    "# 랜덤한 4x4 행렬 생성 - row끼리의 의존성 없애기위해\n",
    "import numpy as np\n",
    "from numpy.linalg import svd\n",
    "\n",
    "np.random.seed(121)\n",
    "a = np.random.randn(4,4)\n",
    "print(np.round(a,3))"
   ]
  },
  {
   "cell_type": "markdown",
   "metadata": {},
   "source": [
    "svd적용해 U, sigma, Vt도출"
   ]
  },
  {
   "cell_type": "code",
   "execution_count": 3,
   "metadata": {},
   "outputs": [
    {
     "name": "stdout",
     "output_type": "stream",
     "text": [
      "(4, 4) (4,) (4, 4)\n",
      "U matrix:\n",
      " [[-0.079 -0.318  0.867  0.376]\n",
      " [ 0.383  0.787  0.12   0.469]\n",
      " [ 0.656  0.022  0.357 -0.664]\n",
      " [ 0.645 -0.529 -0.328  0.444]]\n",
      "Sigma matrix:\n",
      " [3.423 2.023 0.463 0.079]\n",
      "V transpose matrix:\n",
      " [[ 0.041  0.224  0.786 -0.574]\n",
      " [-0.2    0.562  0.37   0.712]\n",
      " [-0.778  0.395 -0.333 -0.357]\n",
      " [-0.593 -0.692  0.366  0.189]]\n"
     ]
    }
   ],
   "source": [
    "U, Sigma, Vt = svd(a)\n",
    "print(U.shape, Sigma.shape, Vt.shape) # Sigma는 대각성분만 0이 아니므로 0아닌값만 1차원행렬로\n",
    "print('U matrix:\\n', np.round(U,3))\n",
    "print('Sigma matrix:\\n', np.round(Sigma,3)) \n",
    "print('V transpose matrix:\\n', np.round(Vt, 3))"
   ]
  },
  {
   "cell_type": "code",
   "execution_count": 4,
   "metadata": {},
   "outputs": [
    {
     "name": "stdout",
     "output_type": "stream",
     "text": [
      "[[-0.212 -0.285 -0.574 -0.44 ]\n",
      " [-0.33   1.184  1.615  0.367]\n",
      " [-0.014  0.63   1.71  -1.327]\n",
      " [ 0.402 -0.191  1.404 -1.969]]\n"
     ]
    }
   ],
   "source": [
    "# Sigma를 다시 0 포함한 대칭행렬로 변환\n",
    "Sigma_mat = np.diag(Sigma)\n",
    "a_ = np.dot(np.dot(U, Sigma_mat), Vt)\n",
    "print(np.round(a_,3))\n"
   ]
  },
  {
   "cell_type": "code",
   "execution_count": 5,
   "metadata": {},
   "outputs": [
    {
     "name": "stdout",
     "output_type": "stream",
     "text": [
      "[[-0.212 -0.285 -0.574 -0.44 ]\n",
      " [-0.33   1.184  1.615  0.367]\n",
      " [-0.542  0.899  1.041 -0.073]\n",
      " [-0.212 -0.285 -0.574 -0.44 ]]\n"
     ]
    }
   ],
   "source": [
    "# row간 의존성 있을 경우 알기위해 데이터 조작\n",
    "a[2] = a[0] + a[1]\n",
    "a[3] = a[0]\n",
    "print(np.round(a,3))"
   ]
  },
  {
   "cell_type": "code",
   "execution_count": 6,
   "metadata": {},
   "outputs": [
    {
     "name": "stdout",
     "output_type": "stream",
     "text": [
      "(4, 4) (4,) (4, 4)\n",
      "Sigma value:\n",
      " [2.663 0.807 0.    0.   ]\n"
     ]
    }
   ],
   "source": [
    "U, Sigma, Vt = svd(a)\n",
    "print(U.shape, Sigma.shape, Vt.shape)\n",
    "print('Sigma value:\\n', np.round(Sigma,3))"
   ]
  },
  {
   "cell_type": "markdown",
   "metadata": {},
   "source": [
    "sigma 2개값 0 -> 선형독립 row 벡터의 개수 2라는 의미  \n",
    "행렬의 Rank=2"
   ]
  },
  {
   "cell_type": "code",
   "execution_count": 7,
   "metadata": {},
   "outputs": [
    {
     "name": "stdout",
     "output_type": "stream",
     "text": [
      "(4, 2) (2, 2) (2, 4)\n",
      "[[-0.212 -0.285 -0.574 -0.44 ]\n",
      " [-0.33   1.184  1.615  0.367]\n",
      " [-0.542  0.899  1.041 -0.073]\n",
      " [-0.212 -0.285 -0.574 -0.44 ]]\n"
     ]
    }
   ],
   "source": [
    "# Sigma의 0에 대응 하는 U, Sigma, Vt데이터 제외하고 복원\n",
    "U_ = U[:,:2]\n",
    "Sigma_ = np.diag(Sigma[:2])\n",
    "Vt_ = Vt[:2,:]\n",
    "print(U_.shape, Sigma_.shape, Vt_.shape)\n",
    "\n",
    "a_ = np.dot(np.dot(U_, Sigma_), Vt_)\n",
    "print(np.round(a_,3))"
   ]
  },
  {
   "cell_type": "markdown",
   "metadata": {},
   "source": [
    "* Truncated SVD"
   ]
  },
  {
   "cell_type": "code",
   "execution_count": 13,
   "metadata": {},
   "outputs": [
    {
     "name": "stdout",
     "output_type": "stream",
     "text": [
      "원본행렬\n",
      " [[0.11133083 0.21076757 0.23296249 0.15194456 0.83017814 0.40791941]\n",
      " [0.5557906  0.74552394 0.24849976 0.9686594  0.95268418 0.48984885]\n",
      " [0.01829731 0.85760612 0.40493829 0.62247394 0.29537149 0.92958852]\n",
      " [0.4056155  0.56730065 0.24575605 0.22573721 0.03827786 0.58098021]\n",
      " [0.82925331 0.77326256 0.94693849 0.73632338 0.67328275 0.74517176]\n",
      " [0.51161442 0.46920965 0.6439515  0.82081228 0.14548493 0.01806415]]\n",
      "\n",
      "분해행렬차원\n",
      " (6, 6) (6,) (6, 6)\n",
      "\n",
      "Sigma행렬\n",
      " [3.2535007  0.88116505 0.83865238 0.55463089 0.35834824 0.0349925 ]\n",
      "\n",
      "Truncated 분해행렬차원\n",
      " (6, 4) (4,) (4, 6)\n",
      "\n",
      "Truncated Sigma행렬\n",
      " [0.55463089 0.83865238 0.88116505 3.2535007 ]\n",
      "Truncated 복원 행렬\n",
      " [[0.19222941 0.21792946 0.15951023 0.14084013 0.81641405 0.42533093]\n",
      " [0.44874275 0.72204422 0.34594106 0.99148577 0.96866325 0.4754868 ]\n",
      " [0.12656662 0.88860729 0.30625735 0.59517439 0.28036734 0.93961948]\n",
      " [0.23989012 0.51026588 0.39697353 0.27308905 0.05971563 0.57156395]\n",
      " [0.83806144 0.78847467 0.93868685 0.72673231 0.6740867  0.73812389]\n",
      " [0.59726589 0.47953891 0.56613544 0.80746028 0.13135039 0.03479656]]\n"
     ]
    }
   ],
   "source": [
    "import numpy as np\n",
    "from scipy.sparse.linalg import svds\n",
    "from scipy.linalg import svd\n",
    "\n",
    "# 원본행렬\n",
    "np.random.seed(121)\n",
    "matrix = np.random.random((6,6))\n",
    "print('원본행렬\\n', matrix)\n",
    "U, Sigma, Vt = svd(matrix, full_matrices=False)\n",
    "# full_matrices: If True (default), U and Vh are of shape (M, M), (N, N). If False, the shapes are (M, K) and (K, N), where K = min(M, N).\n",
    "print('\\n분해행렬차원\\n',U.shape, Sigma.shape, Vt.shape)\n",
    "print('\\nSigma행렬\\n',Sigma)\n",
    "\n",
    "# Truncated SVD\n",
    "num_components=4\n",
    "U_tr, Sigma_tr, Vt_tr = svds(matrix, k=num_components)\n",
    "print('\\nTruncated 분해행렬차원\\n',U_tr.shape, Sigma_tr.shape, Vt_tr.shape)\n",
    "print('\\nTruncated Sigma행렬\\n',Sigma_tr)\n",
    "matrix_tr = np.dot(np.dot(U_tr,np.diag(Sigma_tr)),Vt_tr)\n",
    "print('Truncated 복원 행렬\\n', matrix_tr)"
   ]
  },
  {
   "cell_type": "markdown",
   "metadata": {},
   "source": [
    "## Scikit Learn SVD클래스 변환"
   ]
  },
  {
   "cell_type": "code",
   "execution_count": 14,
   "metadata": {},
   "outputs": [
    {
     "data": {
      "text/plain": [
       "Text(0, 0.5, 'TruncatedSVD Component2')"
      ]
     },
     "execution_count": 14,
     "metadata": {},
     "output_type": "execute_result"
    },
    {
     "data": {
      "image/png": "[encoded data removed]",
      "text/plain": [
       "<Figure size 432x288 with 1 Axes>"
      ]
     },
     "metadata": {
      "needs_background": "light"
     },
     "output_type": "display_data"
    }
   ],
   "source": [
    "from sklearn.decomposition import TruncatedSVD, PCA\n",
    "from sklearn.datasets import load_iris\n",
    "import matplotlib.pyplot as plt\n",
    "%matplotlib inline\n",
    "\n",
    "iris = load_iris()\n",
    "iris_ftrs = iris.data\n",
    "\n",
    "tsvd = TruncatedSVD(n_components=2)\n",
    "tsvd.fit(iris_ftrs)\n",
    "iris_tsvd = tsvd.transform(iris_ftrs)\n",
    "\n",
    "plt.scatter(x=iris_tsvd[:,0], y=iris_tsvd[:,1], c=iris.target)\n",
    "plt.xlabel('TruncatedSVD Component1')\n",
    "plt.ylabel('TruncatedSVD Component2')"
   ]
  },
  {
   "cell_type": "markdown",
   "metadata": {},
   "source": [
    "PCA와 TruncatedSVD사실 알고보면 둘다 SVD를 이용해 행렬 분할"
   ]
  },
  {
   "cell_type": "markdown",
   "metadata": {},
   "source": [
    "스케일링(데이터중심동일해짐) 후 PCA 하면 둘이 거의 유사"
   ]
  },
  {
   "cell_type": "code",
   "execution_count": 18,
   "metadata": {},
   "outputs": [
    {
     "data": {
      "text/plain": [
       "Text(0.5, 1.0, 'PCA Transfomed')"
      ]
     },
     "execution_count": 18,
     "metadata": {},
     "output_type": "execute_result"
    },
    {
     "data": {
      "image/png": "[encoded data removed]",
      "text/plain": [
       "<Figure size 648x288 with 2 Axes>"
      ]
     },
     "metadata": {},
     "output_type": "display_data"
    }
   ],
   "source": [
    "from sklearn.preprocessing import StandardScaler\n",
    "import seaborn as sns\n",
    "\n",
    "sns.set()\n",
    "\n",
    "scaler = StandardScaler()\n",
    "iris_scaled = scaler.fit_transform(iris_ftrs)\n",
    "\n",
    "#scaling된 data 기반으로 Truncated SVD 수행\n",
    "tsvd = TruncatedSVD(n_components=2)\n",
    "tsvd.fit(iris_scaled)\n",
    "iris_tsvd = tsvd.transform(iris_scaled)\n",
    "\n",
    "#scaling된 data 기반으로 PCA 수행\n",
    "pca = PCA(n_components=2)\n",
    "pca.fit(iris_scaled)\n",
    "iris_pca = pca.transform(iris_scaled)\n",
    "\n",
    "fig, (ax1, ax2 ) = plt.subplots(figsize=(9,4),ncols=2)\n",
    "ax1.scatter(x=iris_tsvd[:,0], y=iris_tsvd[:,1], c=iris.target)\n",
    "ax2.scatter(x=iris_pca[:,0], y=iris_pca[:,1], c=iris.target)\n",
    "ax1.set_title('Truncated SVD Transfomed')\n",
    "ax2.set_title('PCA Transfomed')"
   ]
  },
  {
   "cell_type": "code",
   "execution_count": 19,
   "metadata": {},
   "outputs": [
    {
     "name": "stdout",
     "output_type": "stream",
     "text": [
      "iris_pca - iris_tsvd 평균 2.3375977079946134e-15\n",
      "pca.components_ - tsvd.components_ 평균 -6.5052130349130266e-18\n"
     ]
    }
   ],
   "source": [
    "print('iris_pca - iris_tsvd 평균',(iris_pca-iris_tsvd).mean())\n",
    "print('pca.components_ - tsvd.components_ 평균',(pca.components_-tsvd.components_ ).mean())"
   ]
  },
  {
   "cell_type": "markdown",
   "metadata": {},
   "source": [
    "## NMF"
   ]
  },
  {
   "cell_type": "code",
   "execution_count": 2,
   "metadata": {},
   "outputs": [
    {
     "name": "stderr",
     "output_type": "stream",
     "text": [
      "C:\\Users\\ui88g\\anaconda3\\lib\\site-packages\\sklearn\\decomposition\\_nmf.py:1077: ConvergenceWarning: Maximum number of iterations 200 reached. Increase it to improve convergence.\n",
      "  \" improve convergence.\" % max_iter, ConvergenceWarning)\n"
     ]
    },
    {
     "data": {
      "text/plain": [
       "Text(0, 0.5, 'NMF Component2')"
      ]
     },
     "execution_count": 2,
     "metadata": {},
     "output_type": "execute_result"
    },
    {
     "data": {
      "image/png": "[encoded data removed]",
      "text/plain": [
       "<Figure size 432x288 with 1 Axes>"
      ]
     },
     "metadata": {
      "needs_background": "light"
     },
     "output_type": "display_data"
    }
   ],
   "source": [
    "from sklearn.decomposition import NMF\n",
    "from sklearn.datasets import load_iris\n",
    "import matplotlib.pyplot as plt\n",
    "%matplotlib inline\n",
    "\n",
    "iris = load_iris()\n",
    "iris_ftrs = iris.data\n",
    "\n",
    "nmf = NMF(n_components=2)\n",
    "nmf.fit(iris_ftrs)\n",
    "iris_nmf = nmf.transform(iris_ftrs)\n",
    "\n",
    "plt.scatter(x=iris_nmf[:,0], y=iris_nmf[:,1], c=iris.target)\n",
    "plt.xlabel('NMF Component1')\n",
    "plt.ylabel('NMF Component2')"
   ]
  },
  {
   "cell_type": "code",
   "execution_count": 7,
   "metadata": {},
   "outputs": [
    {
     "data": {
      "text/plain": [
       "array([[0.10703803, 1.32370915],\n",
       "       [0.1368093 , 1.16981601],\n",
       "       [0.10323804, 1.20941715],\n",
       "       [0.14316969, 1.12028074],\n",
       "       [0.09897292, 1.33139455],\n",
       "       [0.15313042, 1.3725868 ],\n",
       "       [0.11379433, 1.20473324],\n",
       "       [0.12952865, 1.25880308],\n",
       "       [0.13582786, 1.06315963],\n",
       "       [0.13995523, 1.18208575],\n",
       "       [0.11588762, 1.39732542],\n",
       "       [0.14395416, 1.20158241],\n",
       "       [0.1275638 , 1.16564037],\n",
       "       [0.06770194, 1.15585559],\n",
       "       [0.04992352, 1.60853879],\n",
       "       [0.08998487, 1.5914358 ],\n",
       "       [0.08336633, 1.46950818],\n",
       "       [0.11477577, 1.31138962],\n",
       "       [0.15647332, 1.41021126],\n",
       "       [0.11254472, 1.35970097],\n",
       "       [0.17044174, 1.27632304],\n",
       "       [0.12683981, 1.32320088],\n",
       "       [0.02317778, 1.36233527],\n",
       "       [0.19568902, 1.16569841],\n",
       "       [0.19627723, 1.12889138],\n",
       "       [0.1731991 , 1.13785048],\n",
       "       [0.16244515, 1.20993368],\n",
       "       [0.12598682, 1.31597397],\n",
       "       [0.11510315, 1.31602375],\n",
       "       [0.15556111, 1.13672612],\n",
       "       [0.16362623, 1.12904072],\n",
       "       [0.15103516, 1.30014468],\n",
       "       [0.07890494, 1.47337688],\n",
       "       [0.06716757, 1.55895374],\n",
       "       [0.14769297, 1.16976623],\n",
       "       [0.0903203 , 1.28313298],\n",
       "       [0.09562805, 1.41392014],\n",
       "       [0.08972742, 1.32721891],\n",
       "       [0.11182948, 1.11157054],\n",
       "       [0.13103641, 1.27529824],\n",
       "       [0.09582698, 1.3191248 ],\n",
       "       [0.16697647, 0.94648223],\n",
       "       [0.09871476, 1.15993166],\n",
       "       [0.17136326, 1.20947519],\n",
       "       [0.19004655, 1.25046006],\n",
       "       [0.14303927, 1.14100132],\n",
       "       [0.12224801, 1.34779015],\n",
       "       [0.11917131, 1.16869165],\n",
       "       [0.11437986, 1.38083026],\n",
       "       [0.11864499, 1.25885286],\n",
       "       [0.82376413, 0.61713987],\n",
       "       [0.78757326, 0.55431005],\n",
       "       [0.87143351, 0.51568393],\n",
       "       [0.73033905, 0.33401929],\n",
       "       [0.83275147, 0.44985262],\n",
       "       [0.78777291, 0.36676072],\n",
       "       [0.82212793, 0.50121524],\n",
       "       [0.56943477, 0.46579987],\n",
       "       [0.81222641, 0.5151674 ],\n",
       "       [0.68988306, 0.39316688],\n",
       "       [0.632054  , 0.33711209],\n",
       "       [0.74082611, 0.49616415],\n",
       "       [0.721222  , 0.42927313],\n",
       "       [0.82986637, 0.39614172],\n",
       "       [0.62273858, 0.59251921],\n",
       "       [0.77347514, 0.61616485],\n",
       "       [0.7886259 , 0.37398763],\n",
       "       [0.70286072, 0.49295528],\n",
       "       [0.85013131, 0.2795141 ],\n",
       "       [0.6858156 , 0.44774498],\n",
       "       [0.85557074, 0.36218463],\n",
       "       [0.70659882, 0.55389309],\n",
       "       [0.9017311 , 0.27162957],\n",
       "       [0.82094825, 0.39660021],\n",
       "       [0.75688782, 0.55486811],\n",
       "       [0.77852474, 0.57548913],\n",
       "       [0.86441906, 0.46319695],\n",
       "       [0.90789184, 0.40964364],\n",
       "       [0.8012143 , 0.41578771],\n",
       "       [0.60326418, 0.59766161],\n",
       "       [0.67342418, 0.4312996 ],\n",
       "       [0.64824542, 0.46784947],\n",
       "       [0.68345414, 0.51677691],\n",
       "       [0.92671289, 0.209725  ],\n",
       "       [0.78561038, 0.3409973 ],\n",
       "       [0.77616525, 0.524371  ],\n",
       "       [0.83353594, 0.53115429],\n",
       "       [0.81216522, 0.36905922],\n",
       "       [0.70338634, 0.49554806],\n",
       "       [0.71722434, 0.38238042],\n",
       "       [0.77269334, 0.32195914],\n",
       "       [0.80586799, 0.44455262],\n",
       "       [0.70745252, 0.468366  ],\n",
       "       [0.57749989, 0.45811447],\n",
       "       [0.74049943, 0.39877602],\n",
       "       [0.71459739, 0.5001324 ],\n",
       "       [0.72889248, 0.46363231],\n",
       "       [0.7538723 , 0.52187778],\n",
       "       [0.52130759, 0.58334226],\n",
       "       [0.71800881, 0.46368209],\n",
       "       [1.11850085, 0.07534502],\n",
       "       [0.94691057, 0.13977609],\n",
       "       [1.10184303, 0.20827309],\n",
       "       [1.02080204, 0.16178084],\n",
       "       [1.08309319, 0.12121293],\n",
       "       [1.23146899, 0.12113649],\n",
       "       [0.82633384, 0.11297961],\n",
       "       [1.1579668 , 0.15712006],\n",
       "       [1.08794455, 0.08257855],\n",
       "       [1.12983964, 0.27211283],\n",
       "       [0.93241584, 0.36382552],\n",
       "       [0.99083918, 0.19028638],\n",
       "       [1.02755566, 0.25570897],\n",
       "       [0.94881424, 0.08683061],\n",
       "       [0.97904189, 0.10235901],\n",
       "       [0.98900333, 0.26191108],\n",
       "       [0.99981918, 0.24318207],\n",
       "       [1.20569666, 0.29452629],\n",
       "       [1.30396445, 0.        ],\n",
       "       [0.93432091, 0.12537205],\n",
       "       [1.06630622, 0.24746552],\n",
       "       [0.91019339, 0.16710748],\n",
       "       [1.25579476, 0.07735971],\n",
       "       [0.91182959, 0.28303212],\n",
       "       [1.04125788, 0.26329481],\n",
       "       [1.0844639 , 0.28585762],\n",
       "       [0.88632345, 0.31494786],\n",
       "       [0.889142  , 0.32258348],\n",
       "       [1.05208036, 0.11713685],\n",
       "       [1.04722109, 0.31059623],\n",
       "       [1.1388876 , 0.18557582],\n",
       "       [1.14091363, 0.4248467 ],\n",
       "       [1.0598181 , 0.10481732],\n",
       "       [0.91694107, 0.29571058],\n",
       "       [1.00650765, 0.10552693],\n",
       "       [1.1612471 , 0.23414432],\n",
       "       [1.03444166, 0.20876649],\n",
       "       [0.99175406, 0.25086747],\n",
       "       [0.87019322, 0.33031866],\n",
       "       [1.00506504, 0.32061504],\n",
       "       [1.06014477, 0.20220545],\n",
       "       [0.96821744, 0.36866702],\n",
       "       [0.94691057, 0.13977609],\n",
       "       [1.09968051, 0.18250967],\n",
       "       [1.07220882, 0.2140167 ],\n",
       "       [0.9892003 , 0.28726579],\n",
       "       [0.95012306, 0.19812112],\n",
       "       [0.96297158, 0.29123404],\n",
       "       [0.99031412, 0.25305154],\n",
       "       [0.92100853, 0.24113247]])"
      ]
     },
     "execution_count": 7,
     "metadata": {},
     "output_type": "execute_result"
    }
   ],
   "source": [
    "iris_nmf"
   ]
  },
  {
   "cell_type": "code",
   "execution_count": null,
   "metadata": {},
   "outputs": [],
   "source": []
  }
 ],
 "metadata": {
  "kernelspec": {
   "display_name": "Python 3",
   "language": "python",
   "name": "python3"
  },
  "language_info": {
   "codemirror_mode": {
    "name": "ipython",
    "version": 3
   },
   "file_extension": ".py",
   "mimetype": "text/x-python",
   "name": "python",
   "nbconvert_exporter": "python",
   "pygments_lexer": "ipython3",
   "version": "3.7.6"
  }
 },
 "nbformat": 4,
 "nbformat_minor": 4
}
